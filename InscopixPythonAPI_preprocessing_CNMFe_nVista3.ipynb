{
 "cells": [
  {
   "cell_type": "markdown",
   "metadata": {},
   "source": [
    "# Inscopix python API - imaging processing\n",
    "### This notebook contains the procedure from preprocessing to ROI detection by CNMFe"
   ]
  },
  {
   "cell_type": "markdown",
   "metadata": {},
   "source": [
    "### Import packages \n",
    "the inscopix python API is located in the same folder of data processing software. The isx.cnmfe is used for ROI detection."
   ]
  },
  {
   "cell_type": "code",
   "execution_count": 1,
   "metadata": {},
   "outputs": [
    {
     "name": "stdout",
     "output_type": "stream",
     "text": [
      "Start time: 2020-09-08 23:13:38.076111\n"
     ]
    }
   ],
   "source": [
    "import sys\n",
    "sys.path.append(\"/Program Files/Inscopix/Data Processing/\")\n",
    "import os\n",
    "import isx\n",
    "import isx.cnmfe\n",
    "\n",
    "from datetime import datetime\n",
    "start_time = datetime.now()\n",
    "print('Start time: {}'.format(start_time))"
   ]
  },
  {
   "cell_type": "markdown",
   "metadata": {},
   "source": [
    "### File path and recording names\n",
    "Deinfe path and the recording names of our recordings.<br>"
   ]
  },
  {
   "cell_type": "code",
   "execution_count": 2,
   "metadata": {},
   "outputs": [
    {
     "name": "stdout",
     "output_type": "stream",
     "text": [
      "F:/inscopix_nVista3/BES0225200908\n",
      "{'day_0': ['2020-09-08-15-09-22_video']}\n"
     ]
    }
   ],
   "source": [
    "path_to_file = 'F:/inscopix_nVista3/'\n",
    "data_dir = os.path.join(path_to_file, 'BES0225200908') # Only change here\n",
    "file_names_in_path = []\n",
    "file_names_in_path = sorted(set(os.listdir(data_dir)))\n",
    "\n",
    "# rec_name = '2020-09-02-15-58-16_video'\n",
    "rec_name = file_names_in_path[1].split('.')[0]#.split('-')[0]\n",
    "# rec_name = file_names_in_path[8][:-8] # This should be the first/sec raw file in the list with the time stamp\n",
    "series_rec_names = {\n",
    "        'day_0':\n",
    "        [\n",
    "            rec_name,\n",
    "        ]\n",
    "}\n",
    "print(data_dir)\n",
    "print(series_rec_names)"
   ]
  },
  {
   "cell_type": "markdown",
   "metadata": {},
   "source": [
    "### Imaging Preprocessing, Sptail filter, Motion correction, dF/F, PCA-ICA, Event detection\n",
    "Note the following cell will perfrom the whole procedure from preprocessing to event detection, it's written in a huge for loop, so keep the identation before all codes.<br>\n",
    "There will be outputs of file names for each completed steps, so you can check the working progress."
   ]
  },
  {
   "cell_type": "code",
   "execution_count": 3,
   "metadata": {
    "scrolled": false
   },
   "outputs": [
    {
     "name": "stdout",
     "output_type": "stream",
     "text": [
      "['F:/inscopix_nVista3/BES0225200908\\\\2020-09-08-15-09-22_video.isxd']\n",
      "['F:/inscopix_nVista3/BES0225200908\\\\processed_crop\\\\2020-09-08-15-09-22_video-PP.isxd']\n",
      "['F:/inscopix_nVista3/BES0225200908\\\\processed_crop\\\\2020-09-08-15-09-22_video-PP-BP.isxd']\n",
      "['F:/inscopix_nVista3/BES0225200908\\\\processed_crop\\\\2020-09-08-15-09-22_video-PP-BP-MC.isxd']\n"
     ]
    }
   ],
   "source": [
    "# Process each series all the way to event detection.\n",
    "output_dir = os.path.join(data_dir, 'processed_crop')\n",
    "os.makedirs(output_dir, exist_ok=True)\n",
    "\n",
    "proc_movie_files = []\n",
    "proc_cs_files = []\n",
    "for series_name, rec_names in series_rec_names.items():\n",
    "    \n",
    "    # Generate the recording file paths.\n",
    "#     rec_files = [os.path.join(data_dir, name + '.xml') for name in rec_names]\n",
    "    rec_files = [os.path.join(data_dir, name + '.isxd') for name in rec_names] ## This line is for new recording from nVista3\n",
    "    print(rec_files) # for progress feedback, not necessary\n",
    "    \n",
    "    # Preprocess the recordings by spatially downsampling by a factor of 4.\n",
    "    pp_files = isx.make_output_file_paths(rec_files, output_dir, 'PP')\n",
    "    isx.preprocess(rec_files, pp_files, spatial_downsample_factor=1, crop_rect=[8,18,199,280])\n",
    "    print(pp_files)\n",
    "    \n",
    "    # Perform spatial bandpass filtering with defaults.\n",
    "    bp_files = isx.make_output_file_paths(pp_files, output_dir, 'BP')\n",
    "    isx.spatial_filter(pp_files, bp_files, low_cutoff=0.005, high_cutoff=0.500)\n",
    "    print(bp_files)\n",
    "    \n",
    "    # Motion correct the movies using the mean projection as a reference frame.\n",
    "    mean_proj_file = os.path.join(output_dir, '{}-mean_image.isxd'.format(series_name))\n",
    "    isx.project_movie(bp_files, mean_proj_file, stat_type='mean')\n",
    "    mc_files = isx.make_output_file_paths(bp_files, output_dir, 'MC')\n",
    "    translation_files = isx.make_output_file_paths(mc_files, output_dir, 'translations', 'csv')\n",
    "    crop_rect_file = os.path.join(output_dir, '{}-crop_rect.csv'.format(series_name))\n",
    "    isx.motion_correct(\n",
    "         bp_files, mc_files, max_translation=20, reference_file_name=mean_proj_file,\n",
    "         low_bandpass_cutoff=None, high_bandpass_cutoff=None,\n",
    "         output_translation_files=translation_files, output_crop_rect_file=crop_rect_file)\n",
    "    print(mc_files)\n",
    "    \n",
    "#     # Run DF/F on the motion corrected movies.\n",
    "#     dff_files = isx.make_output_file_paths(mc_files, output_dir, 'DFF')\n",
    "#     isx.dff(mc_files, dff_files, f0_type='mean')\n",
    "#     print(dff_files)\n",
    "    \n",
    "#     # Run PCA-ICA on the DF/F movies.\n",
    "#     # Note that you will have to manually determine the number of cells, which we\n",
    "#     # determined here as 180.\n",
    "#     # Increase the block_size to increase speed at the expense of more memory usage.\n",
    "#     ic_files = isx.make_output_file_paths(dff_files, output_dir, 'PCA_ICA')\n",
    "#     num_cells = 180\n",
    "#     isx.pca_ica(dff_files, ic_files, num_cells, int(1.15 * num_cells), block_size=1000)\n",
    "#     #print(ic_files)\n",
    "\n",
    "#     # Run event detection on the PCA-ICA cell sets.\n",
    "#     event_files = isx.make_output_file_paths(ic_files, output_dir, 'ED')\n",
    "#     isx.event_detection(ic_files, event_files, threshold=5)\n",
    "#     print(event_files)\n",
    "\n",
    "#     # Automatically accept and reject cells based on their cell metrics\n",
    "#     # Only accept cells that have a nonzero event rate, an SNR greater\n",
    "#     # than 3, and only one connected component after thresholding\n",
    "#     auto_ar_filters = [('SNR', '>', 3), ('Event Rate', '>', 0), ('# Comps', '=', 1)]\n",
    "#     isx.auto_accept_reject(ic_files, event_files, filters=auto_ar_filters)\n",
    "\n",
    "#     # Store the processed movies and cell sets for longitudinal registration.\n",
    "#     proc_movie_files += dff_files\n",
    "#     proc_cs_files += ic_files\n",
    "#     print(proc_movie_files)"
   ]
  },
  {
   "cell_type": "code",
   "execution_count": 4,
   "metadata": {},
   "outputs": [
    {
     "name": "stdout",
     "output_type": "stream",
     "text": [
      "Duration from starting to MC: 0:03:35.553330\n"
     ]
    }
   ],
   "source": [
    "end_time = datetime.now()\n",
    "print('Duration from starting to MC: {}'.format(end_time - start_time))"
   ]
  },
  {
   "cell_type": "markdown",
   "metadata": {},
   "source": [
    "You should see some outputs from each step of precessing above here.\n"
   ]
  },
  {
   "cell_type": "markdown",
   "metadata": {},
   "source": [
    "If you have the MC.isxd file already, you can continue with following code."
   ]
  },
  {
   "cell_type": "markdown",
   "metadata": {},
   "source": [
    "'F:/inscopix_new/DSC7674200225\\\\processed\\\\recording_20200225_153103-PP-BP-MC.isxd'"
   ]
  },
  {
   "cell_type": "markdown",
   "metadata": {},
   "source": [
    "### ROI detection by CNMFe\n",
    "Now, we finished all preprocessing from the inscopix, and can move forward for Ca<sup>2</sup> ROI detection by CNMFe. First we would need to define our parameters."
   ]
  },
  {
   "cell_type": "code",
   "execution_count": 5,
   "metadata": {},
   "outputs": [],
   "source": [
    "# To start with CNMFe, we can try to set up a cluster on our computer so \n",
    "# it can process much faster. Go to anaconda promt, activate isxenv, then run\n",
    "# ipcluster start -n 16\n",
    "\n",
    "# Or less amount\n",
    "# Then use a different terminal to start the jupyter notebook.\n",
    "# Check again if it's possible to have this at the beginning of the notebook"
   ]
  },
  {
   "cell_type": "code",
   "execution_count": 6,
   "metadata": {
    "scrolled": false
   },
   "outputs": [
    {
     "name": "stdout",
     "output_type": "stream",
     "text": [
      "F:/inscopix_nVista3/BES0225200908\\processed_crop\\2020-09-08-15-09-22_video-PP-BP-MC-CNMFE_13.isxd\n",
      "F:/inscopix_nVista3/BES0225200908\\processed_crop\\2020-09-08-15-09-22_video-PP-BP-MC-CNMFE_17.isxd\n",
      "F:/inscopix_nVista3/BES0225200908\\processed_crop\\2020-09-08-15-09-22_video-PP-BP-MC-CNMFE_21.isxd\n",
      "F:/inscopix_nVista3/BES0225200908\\processed_crop\\2020-09-08-15-09-22_video-PP-BP-MC-CNMFE_13-ED.isxd\n",
      "F:/inscopix_nVista3/BES0225200908\\processed_crop\\2020-09-08-15-09-22_video-PP-BP-MC-CNMFE_17-ED.isxd\n",
      "F:/inscopix_nVista3/BES0225200908\\processed_crop\\2020-09-08-15-09-22_video-PP-BP-MC-CNMFE_21-ED.isxd\n"
     ]
    }
   ],
   "source": [
    "## Test with different setting\n",
    "# Define the motion correct filename for further process.\n",
    "mov_file = str(mc_files) # This should have the full path to the motion corrected file.\n",
    "\n",
    "# Create lists of CNMFe output files (cell traces and events)\n",
    "cellset_list = []\n",
    "cellset_list.append(os.path.join(output_dir, mov_file[-41:-7]+'-CNMFE_13'+ '.isxd'))\n",
    "cellset_list.append(os.path.join(output_dir, mov_file[-41:-7]+'-CNMFE_17'+ '.isxd'))\n",
    "cellset_list.append(os.path.join(output_dir, mov_file[-41:-7]+'-CNMFE_21'+ '.isxd'))\n",
    "for cellset in cellset_list:\n",
    "    print(cellset)\n",
    "\n",
    "events_list = []\n",
    "events_list.append(os.path.join(output_dir, mov_file[-41:-7]+'-CNMFE_13-ED'+ '.isxd'))\n",
    "events_list.append(os.path.join(output_dir, mov_file[-41:-7]+'-CNMFE_17-ED'+ '.isxd'))\n",
    "events_list.append(os.path.join(output_dir, mov_file[-41:-7]+'-CNMFE_21-ED'+ '.isxd'))\n",
    "for events in events_list:\n",
    "    print(events)"
   ]
  },
  {
   "cell_type": "code",
   "execution_count": 7,
   "metadata": {},
   "outputs": [
    {
     "name": "stdout",
     "output_type": "stream",
     "text": [
      "Start time 2: 2020-09-08 23:17:13.654922\n"
     ]
    }
   ],
   "source": [
    "start_time_2 = datetime.now()\n",
    "print('Start time 2: {}'.format(start_time_2))"
   ]
  },
  {
   "cell_type": "code",
   "execution_count": 8,
   "metadata": {},
   "outputs": [],
   "source": [
    "# CNMFe parameter setting\n",
    "# Define cell size, with the Ca2+ imaging from the inscopix (w/o crop VoF), \n",
    "# a 4x spatial downsampling video usually has a cell size around 15-20 pixel.\n",
    "# Belows are some parameters that I tried that can give us nice yield of cells (~200-300 cells)\n",
    "\n",
    "# Most important is the cell size here, change this one.\n",
    "cell_size_px = 17       # commonly use: 13, 17, 21\n",
    "\n",
    "px_set = [13,17,21]     # Use for automatic naming\n",
    "gSig=(cell_size_px-1)/4 # gSig\n",
    "gSiz=cell_size_px       # gSiz = gSig*4+1 (from CNMFe manual)\n",
    "num_processes=1         # Check again if we can do multi-processor by changing the ipython kernel\n",
    "K=None\n",
    "rf=[40,40]\n",
    "stride=20\n",
    "min_pnr=10              # Try 20, 30 for the most activative neurons\n",
    "min_corr=0.8            # Try 0.7 corr\n",
    "event_threshold=0.3     # Used 0.1 before, too noisy"
   ]
  },
  {
   "cell_type": "code",
   "execution_count": 9,
   "metadata": {},
   "outputs": [
    {
     "name": "stdout",
     "output_type": "stream",
     "text": [
      "Exporting .isxd to tiff file(s)...\n",
      "Wrote .tiff file to: F:/inscopix_nVista3/BES0225200908\\processed_crop\\2020-09-08-15-09-22_video-PP-BP-MC.tiff\n",
      "Finished CNMFe F:/inscopix_nVista3/BES0225200908\\processed_crop\\2020-09-08-15-09-22_video-PP-BP-MC-CNMFE_17.isxd\n"
     ]
    }
   ],
   "source": [
    "## Run CNMFe\n",
    "# Automatic name the output file with corresponding cell size\n",
    "\n",
    "isx.cnmfe.run_cnmfe(mc_files, \n",
    "                    cellset_list[px_set.index(cell_size_px)], \n",
    "                    events_list[px_set.index(cell_size_px)],\n",
    "                    num_processes=num_processes, \n",
    "                    K=K, rf=rf, stride=stride,\n",
    "                    gSig=gSig, gSiz=gSiz, \n",
    "                    min_pnr=min_pnr, min_corr=min_corr, \n",
    "                    event_threshold=event_threshold,\n",
    "                    overwrite_tiff=True,\n",
    "                    output_dir=output_dir)\n",
    "print('Finished CNMFe '+cellset_list[px_set.index(cell_size_px)])"
   ]
  },
  {
   "cell_type": "code",
   "execution_count": 10,
   "metadata": {},
   "outputs": [
    {
     "name": "stdout",
     "output_type": "stream",
     "text": [
      "Removed F:/inscopix_nVista3/BES0225200908\\processed_crop\\2020-09-08-15-09-22_video-PP.isxd\n",
      "Removed F:/inscopix_nVista3/BES0225200908\\processed_crop\\2020-09-08-15-09-22_video-PP-BP.isxd\n"
     ]
    }
   ],
   "source": [
    "## Remove unnecessary files to sace storage space\n",
    "os.remove(pp_files[0])\n",
    "print('Removed '+str(pp_files[0]))\n",
    "os.remove(bp_files[0])\n",
    "print('Removed '+str(bp_files[0]))"
   ]
  },
  {
   "cell_type": "code",
   "execution_count": 11,
   "metadata": {},
   "outputs": [
    {
     "name": "stdout",
     "output_type": "stream",
     "text": [
      "End time: 2020-09-09 00:34:53.353911\n",
      "Duration for CNMFe: 1:17:39.698989\n",
      "Duration for whole process: 1:21:15.277800\n"
     ]
    }
   ],
   "source": [
    "end_time = datetime.now()\n",
    "print('End time: {}'.format(end_time))\n",
    "print('Duration for CNMFe: {}'.format(end_time - start_time_2))\n",
    "print('Duration for whole process: {}'.format(end_time - start_time))"
   ]
  },
  {
   "cell_type": "code",
   "execution_count": null,
   "metadata": {},
   "outputs": [],
   "source": []
  },
  {
   "cell_type": "code",
   "execution_count": null,
   "metadata": {},
   "outputs": [],
   "source": []
  },
  {
   "cell_type": "code",
   "execution_count": null,
   "metadata": {},
   "outputs": [],
   "source": []
  },
  {
   "cell_type": "code",
   "execution_count": null,
   "metadata": {},
   "outputs": [],
   "source": []
  },
  {
   "cell_type": "markdown",
   "metadata": {},
   "source": [
    "Below is the original code for PCA and ICA, keep it here in case I need them sometime."
   ]
  },
  {
   "cell_type": "markdown",
   "metadata": {},
   "source": [
    "### Longitudinal registration\n",
    "Now, we finished all individual file processings, following is the longitudinal registration from different days.\n",
    "Following cells will also perform event detection and export individual cell maps, csv file of all Ca<sup>2+</sup> traces, registered movies (TIFF) "
   ]
  },
  {
   "cell_type": "code",
   "execution_count": 12,
   "metadata": {},
   "outputs": [],
   "source": [
    "# # Perform longitudinal registration on the processed movies and cell sets\n",
    "# # to align the two days of data.\n",
    "# lr_cs_files = isx.make_output_file_paths(proc_cs_files, output_dir, 'LR')\n",
    "# lr_movie_files = isx.make_output_file_paths(proc_movie_files, output_dir, 'LR')\n",
    "# lr_csv_file = os.path.join(output_dir, 'LR.csv')\n",
    "# isx.longitudinal_registration(\n",
    "#     proc_cs_files, lr_cs_files, input_movie_files=proc_movie_files,\n",
    "#     output_movie_files=lr_movie_files, csv_file=lr_csv_file, accepted_cells_only=True)"
   ]
  },
  {
   "cell_type": "code",
   "execution_count": 13,
   "metadata": {},
   "outputs": [],
   "source": [
    "# # Then run event detection and automatically classify the cells based on their\n",
    "# # cell metrics.\n",
    "# lr_event_files = isx.make_output_file_paths(lr_cs_files, output_dir, 'ED')\n",
    "# isx.event_detection(lr_cs_files, lr_event_files, threshold=5)\n",
    "# auto_ar_filters = [('SNR', '>', 3), ('Event Rate', '>', 0), ('# Comps', '=', 1)]\n",
    "# isx.auto_accept_reject(lr_cs_files, lr_event_files, filters=auto_ar_filters)"
   ]
  },
  {
   "cell_type": "code",
   "execution_count": 14,
   "metadata": {},
   "outputs": [],
   "source": [
    "# # Finally, export the registered movies, cell sets, and event sets to non-native\n",
    "# # formats (TIFF and CSV).\n",
    "# tiff_movie_file = os.path.join(output_dir, 'DFF-LR.tif')\n",
    "# isx.export_movie_to_tiff(lr_movie_files, tiff_movie_file, write_invalid_frames=True)\n",
    "# tiff_image_file = os.path.join(output_dir, 'DFF-PCA_ICA-LR.tif')\n",
    "# csv_trace_file = os.path.join(output_dir, 'DFF-PCA_ICA-LR.csv')\n",
    "# isx.export_cell_set_to_csv_tiff(lr_cs_files, csv_trace_file, tiff_image_file, time_ref='start')\n",
    "# csv_event_file = os.path.join(output_dir, 'DFF-PCA_ICA-LR-ED.csv')\n",
    "# isx.export_event_set_to_csv(lr_event_files, csv_event_file, time_ref='start')"
   ]
  }
 ],
 "metadata": {
  "kernelspec": {
   "display_name": "Python 3",
   "language": "python",
   "name": "python3"
  },
  "language_info": {
   "codemirror_mode": {
    "name": "ipython",
    "version": 3
   },
   "file_extension": ".py",
   "mimetype": "text/x-python",
   "name": "python",
   "nbconvert_exporter": "python",
   "pygments_lexer": "ipython3",
   "version": "3.6.10"
  }
 },
 "nbformat": 4,
 "nbformat_minor": 2
}
