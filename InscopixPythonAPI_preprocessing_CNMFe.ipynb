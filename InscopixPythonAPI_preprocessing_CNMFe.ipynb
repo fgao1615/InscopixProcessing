{
 "cells": [
  {
   "cell_type": "markdown",
   "metadata": {},
   "source": [
    "# Inscopix python API - imaging processing\n",
    "### This notebook contains the procedure from preprocessing to ROI detection by CNMFe"
   ]
  },
  {
   "cell_type": "markdown",
   "metadata": {},
   "source": [
    "### Import packages \n",
    "the inscopix python API is located in the same folder of data processing software. The isx.cnmfe is used for ROI detection."
   ]
  },
  {
   "cell_type": "code",
   "execution_count": 1,
   "metadata": {},
   "outputs": [],
   "source": [
    "import sys\n",
    "sys.path.append(\"/Program Files/Inscopix/Data Processing/\")\n",
    "import os\n",
    "import isx\n",
    "import isx.cnmfe"
   ]
  },
  {
   "cell_type": "markdown",
   "metadata": {},
   "source": [
    "### File path and recording names\n",
    "Deinfe path and the recording names of our recordings.<br>"
   ]
  },
  {
   "cell_type": "code",
   "execution_count": 3,
   "metadata": {},
   "outputs": [
    {
     "name": "stdout",
     "output_type": "stream",
     "text": [
      "F:/inscopix_new/BAS0212200417\n",
      "{'day_20200417': ['recording_20200417_154621']}\n"
     ]
    }
   ],
   "source": [
    "path_to_file = 'F:/inscopix_new/'\n",
    "data_dir = os.path.join(path_to_file, 'BAS0212200417') # Only change here\n",
    "file_names_in_path = []\n",
    "file_names_in_path = os.listdir(data_dir)\n",
    "rec_name = file_names_in_path[4][:-8] # This should be the first/sec raw file in the list with the time stamp\n",
    "#rec_name = file_names_in_path[4][:-4] # This should be the first/sec raw file in the list with the time stamp\n",
    "\n",
    "\n",
    "series_rec_names = {\n",
    "        'day_'+ rec_name[10:18]:\n",
    "        [\n",
    "            rec_name,\n",
    "        ]\n",
    "}\n",
    "print(data_dir)\n",
    "print(series_rec_names)"
   ]
  },
  {
   "cell_type": "markdown",
   "metadata": {},
   "source": [
    "### Imgaing Preprocessing, Sptail filter, Motion correction, dF/F, PCA-ICA, Event detection\n",
    "Note the following cell will perfrom the whole procedure from preprocessing to event detection, it's written in a huge for loop, so keep the identation before all codes.<br>\n",
    "There will be outputs of file names for each completed steps, so you can check the working progress."
   ]
  },
  {
   "cell_type": "code",
   "execution_count": 4,
   "metadata": {},
   "outputs": [
    {
     "name": "stdout",
     "output_type": "stream",
     "text": [
      "['F:/inscopix_new/BAS0212200417\\\\recording_20200417_154621.xml']\n",
      "['F:/inscopix_new/BAS0212200417\\\\processed\\\\recording_20200417_154621-PP.isxd']\n",
      "['F:/inscopix_new/BAS0212200417\\\\processed\\\\recording_20200417_154621-PP-BP.isxd']\n",
      "['F:/inscopix_new/BAS0212200417\\\\processed\\\\recording_20200417_154621-PP-BP-MC.isxd']\n",
      "['F:/inscopix_new/BAS0212200417\\\\processed\\\\recording_20200417_154621-PP-BP-MC-DFF.isxd']\n",
      "['F:/inscopix_new/BAS0212200417\\\\processed\\\\recording_20200417_154621-PP-BP-MC-DFF-PCA_ICA-ED.isxd']\n",
      "['F:/inscopix_new/BAS0212200417\\\\processed\\\\recording_20200417_154621-PP-BP-MC-DFF.isxd']\n"
     ]
    }
   ],
   "source": [
    "# Process each series all the way to event detection.\n",
    "output_dir = os.path.join(data_dir, 'processed')\n",
    "os.makedirs(output_dir, exist_ok=True)\n",
    "\n",
    "proc_movie_files = []\n",
    "proc_cs_files = []\n",
    "for series_name, rec_names in series_rec_names.items():\n",
    "    \n",
    "    # Generate the recording file paths.\n",
    "    rec_files = [os.path.join(data_dir, name + '.xml') for name in rec_names]\n",
    "    print(rec_files) # for progress feedback, not necessary\n",
    "    \n",
    "    # Preprocess the recordings by spatially downsampling by a factor of 4.\n",
    "    pp_files = isx.make_output_file_paths(rec_files, output_dir, 'PP')\n",
    "    isx.preprocess(rec_files, pp_files, spatial_downsample_factor=4)\n",
    "    print(pp_files)\n",
    "    \n",
    "    # Perform spatial bandpass filtering with defaults.\n",
    "    bp_files = isx.make_output_file_paths(pp_files, output_dir, 'BP')\n",
    "    isx.spatial_filter(pp_files, bp_files, low_cutoff=0.005, high_cutoff=0.500)\n",
    "    print(bp_files)\n",
    "    \n",
    "    # Motion correct the movies using the mean projection as a reference frame.\n",
    "    mean_proj_file = os.path.join(output_dir, '{}-mean_image.isxd'.format(series_name))\n",
    "    isx.project_movie(bp_files, mean_proj_file, stat_type='mean')\n",
    "    mc_files = isx.make_output_file_paths(bp_files, output_dir, 'MC')\n",
    "    translation_files = isx.make_output_file_paths(mc_files, output_dir, 'translations', 'csv')\n",
    "    crop_rect_file = os.path.join(output_dir, '{}-crop_rect.csv'.format(series_name))\n",
    "    isx.motion_correct(\n",
    "         bp_files, mc_files, max_translation=20, reference_file_name=mean_proj_file,\n",
    "         low_bandpass_cutoff=None, high_bandpass_cutoff=None,\n",
    "         output_translation_files=translation_files, output_crop_rect_file=crop_rect_file)\n",
    "    print(mc_files)\n",
    "    \n",
    "    # Run DF/F on the motion corrected movies.\n",
    "    dff_files = isx.make_output_file_paths(mc_files, output_dir, 'DFF')\n",
    "    isx.dff(mc_files, dff_files, f0_type='mean')\n",
    "    print(dff_files)\n",
    "    \n",
    "    # Run PCA-ICA on the DF/F movies.\n",
    "    # Note that you will have to manually determine the number of cells, which we\n",
    "    # determined here as 180.\n",
    "    # Increase the block_size to increase speed at the expense of more memory usage.\n",
    "    ic_files = isx.make_output_file_paths(dff_files, output_dir, 'PCA_ICA')\n",
    "    num_cells = 180\n",
    "    isx.pca_ica(dff_files, ic_files, num_cells, int(1.15 * num_cells), block_size=1000)\n",
    "    #print(ic_files)\n",
    "\n",
    "    # Run event detection on the PCA-ICA cell sets.\n",
    "    event_files = isx.make_output_file_paths(ic_files, output_dir, 'ED')\n",
    "    isx.event_detection(ic_files, event_files, threshold=5)\n",
    "    print(event_files)\n",
    "\n",
    "    # Automatically accept and reject cells based on their cell metrics\n",
    "    # Only accept cells that have a nonzero event rate, an SNR greater\n",
    "    # than 3, and only one connected component after thresholding\n",
    "    auto_ar_filters = [('SNR', '>', 3), ('Event Rate', '>', 0), ('# Comps', '=', 1)]\n",
    "    isx.auto_accept_reject(ic_files, event_files, filters=auto_ar_filters)\n",
    "\n",
    "    # Store the processed movies and cell sets for longitudinal registration.\n",
    "    proc_movie_files += dff_files\n",
    "    proc_cs_files += ic_files\n",
    "    print(proc_movie_files)"
   ]
  },
  {
   "cell_type": "markdown",
   "metadata": {},
   "source": [
    "You should see some outputs from each step of precessing above here.\n"
   ]
  },
  {
   "cell_type": "markdown",
   "metadata": {},
   "source": [
    "If you have the MC.isxd file already, you can continue with following code."
   ]
  },
  {
   "cell_type": "markdown",
   "metadata": {},
   "source": [
    "'F:/inscopix_new/DSC7674200225\\\\processed\\\\recording_20200225_153103-PP-BP-MC.isxd'"
   ]
  },
  {
   "cell_type": "markdown",
   "metadata": {},
   "source": [
    "### ROI detection by CNMFe\n",
    "Now, we finished all preprocessing from the inscopix, and can move forward for Ca<sup>2</sup> ROI detection by CNMFe. First we would need to define our parameters."
   ]
  },
  {
   "cell_type": "code",
   "execution_count": 4,
   "metadata": {},
   "outputs": [],
   "source": [
    "# To start with CNMFe, we can try to set up a cluster on our computer so \n",
    "# it can process much faster. Go to anaconda promt, activate isxenv, then run\n",
    "# ipcluster start -n 16\n",
    "\n",
    "# Or less amount\n",
    "# Then use a different terminal to start the jupyter notebook.\n",
    "# Check again if it's possible to have this at the beginning of the notebook"
   ]
  },
  {
   "cell_type": "code",
   "execution_count": 11,
   "metadata": {
    "scrolled": false
   },
   "outputs": [
    {
     "name": "stdout",
     "output_type": "stream",
     "text": [
      "F:/inscopix_new/BES0212200416_test\\processed\\sed\\\\recording_20200416_153652-PP-BP-MC-CNMFE_17.isxd\n",
      "F:/inscopix_new/BES0212200416_test\\processed\\sed\\\\recording_20200416_153652-PP-BP-MC-CNMFE_17-ED.isxd\n"
     ]
    }
   ],
   "source": [
    "# Define the motion correct filename for further process.\n",
    "mov_file = str(mc_files) # This should have the full path to the motion corrected file.\n",
    "\n",
    "# Create lists of CNMFe output files (cell traces and events)\n",
    "cellset_list = []\n",
    "#cellset_list.append(os.path.join(output_dir, mov_file[44:-7]+'-CNMFE_13'+ '.isxd'))\n",
    "cellset_list.append(os.path.join(output_dir, mov_file[44:-7]+'-CNMFE_17'+ '.isxd'))\n",
    "#cellset_list.append(os.path.join(output_dir, mov_file[44:-7]+'-CNMFE_21'+ '.isxd'))\n",
    "for cellset in cellset_list:\n",
    "    print(cellset)\n",
    "\n",
    "events_list = []\n",
    "#events_list.append(os.path.join(output_dir, mov_file[44:-7]+'-CNMFE_13-ED'+ '.isxd'))\n",
    "events_list.append(os.path.join(output_dir, mov_file[44:-7]+'-CNMFE_17-ED'+ '.isxd'))\n",
    "#events_list.append(os.path.join(mov_file[2:-7]+'-CNMFE_17-ED'+ '.isxd'))\n",
    "#events_list.append(os.path.join(output_dir, mov_file[44:-7]+'-CNMFE_21-ED'+ '.isxd'))\n",
    "for events in events_list:\n",
    "    print(events)\n",
    "\n",
    "# remove output files if they already exist\n",
    "if os.path.exists(cellset_list[0]):\n",
    "    os.remove(cellset_list[0])\n",
    "    print('remove '+cellset_list[0])\n",
    "# if os.path.exists(cellset_list[1]):\n",
    "#     os.remove(cellset_list[1])\n",
    "#     print('remove '+cellset_list[1])\n",
    "# if os.path.exists(cellset_list[2]):\n",
    "#     os.remove(cellset_list[2])\n",
    "#     print('remove '+cellset_list[2])\n",
    "\n",
    "if os.path.exists(events_list[0]):\n",
    "    os.remove(events_list[0])\n",
    "    print('remove'+events_list[0])\n",
    "# if os.path.exists(events_list[1]):\n",
    "#     os.remove(events_list[1])\n",
    "#     print('remove'+events_list[1])\n",
    "# if os.path.exists(events_list[2]):\n",
    "#     os.remove(events_list[2])\n",
    "#     print('remove'+events_list[2])"
   ]
  },
  {
   "cell_type": "code",
   "execution_count": 34,
   "metadata": {
    "scrolled": false
   },
   "outputs": [
    {
     "name": "stdout",
     "output_type": "stream",
     "text": [
      "F:/inscopix_new/BES0212200416_test\\processed\\recording_20200416_153652-PP-BP-MC-CNMFE_17.isxd\n",
      "F:/inscopix_new/BES0212200416_test\\processed\\recording_20200416_153652-PP-BP-MC-CNMFE_17-ED.isxd\n"
     ]
    }
   ],
   "source": [
    "## Test with different setting\n",
    "# Define the motion correct filename for further process.\n",
    "mov_file = str(mc_files) # This should have the full path to the motion corrected file.\n",
    "\n",
    "# Create lists of CNMFe output files (cell traces and events)\n",
    "cellset_list = []\n",
    "#cellset_list.append(os.path.join(output_dir, mov_file[44:-7]+'-CNMFE_13'+ '.isxd'))\n",
    "cellset_list.append(os.path.join(output_dir, mov_file[-41:-7]+'-CNMFE_17'+ '.isxd'))\n",
    "#cellset_list.append(os.path.join(output_dir, mov_file[44:-7]+'-CNMFE_21'+ '.isxd'))\n",
    "for cellset in cellset_list:\n",
    "    print(cellset)\n",
    "\n",
    "events_list = []\n",
    "#events_list.append(os.path.join(output_dir, mov_file[44:-7]+'-CNMFE_13-ED'+ '.isxd'))\n",
    "events_list.append(os.path.join(output_dir, mov_file[-41:-7]+'-CNMFE_17-ED'+ '.isxd'))\n",
    "#events_list.append(os.path.join(mov_file[2:-7]+'-CNMFE_17-ED'+ '.isxd'))\n",
    "#events_list.append(os.path.join(output_dir, mov_file[44:-7]+'-CNMFE_21-ED'+ '.isxd'))\n",
    "for events in events_list:\n",
    "    print(events)\n",
    "\n",
    "# remove output files if they already exist\n",
    "if os.path.exists(cellset_list[0]):\n",
    "    os.remove(cellset_list[0])\n",
    "    print('remove '+cellset_list[0])\n",
    "# if os.path.exists(cellset_list[1]):\n",
    "#     os.remove(cellset_list[1])\n",
    "#     print('remove '+cellset_list[1])\n",
    "# if os.path.exists(cellset_list[2]):\n",
    "#     os.remove(cellset_list[2])\n",
    "#     print('remove '+cellset_list[2])\n",
    "\n",
    "if os.path.exists(events_list[0]):\n",
    "    os.remove(events_list[0])\n",
    "    print('remove'+events_list[0])\n",
    "# if os.path.exists(events_list[1]):\n",
    "#     os.remove(events_list[1])\n",
    "#     print('remove'+events_list[1])\n",
    "# if os.path.exists(events_list[2]):\n",
    "#     os.remove(events_list[2])\n",
    "#     print('remove'+events_list[2])"
   ]
  },
  {
   "cell_type": "code",
   "execution_count": 32,
   "metadata": {},
   "outputs": [
    {
     "data": {
      "text/plain": [
       "'recording_20200416_153652-PP-BP-MC'"
      ]
     },
     "execution_count": 32,
     "metadata": {},
     "output_type": "execute_result"
    }
   ],
   "source": [
    "mov_file[-41:-7]"
   ]
  },
  {
   "cell_type": "code",
   "execution_count": 13,
   "metadata": {},
   "outputs": [
    {
     "name": "stdout",
     "output_type": "stream",
     "text": [
      "F:/inscopix_new/BES0212200416_test/processed/recording_20200416_153652-PP-BP-MC-CNMFE_17.isxd\n",
      "F:/inscopix_new/BES0212200416_test/processed/recording_20200416_153652-PP-BP-MC-CNMFE-ED_17.isxd\n"
     ]
    }
   ],
   "source": [
    "cellset = 'F:/inscopix_new/BES0212200416_test/processed/recording_20200416_153652-PP-BP-MC-CNMFE_17.isxd'\n",
    "events = 'F:/inscopix_new/BES0212200416_test/processed/recording_20200416_153652-PP-BP-MC-CNMFE-ED_17.isxd'\n",
    "print(cellset)\n",
    "print(events)"
   ]
  },
  {
   "cell_type": "code",
   "execution_count": 19,
   "metadata": {},
   "outputs": [
    {
     "name": "stdout",
     "output_type": "stream",
     "text": [
      "F:/CNMFE_17.isxd\n",
      "F:/CNMFE-ED_17.isxd\n"
     ]
    }
   ],
   "source": [
    "# Test with different name with simple path\n",
    "cellset = 'F:/CNMFE_17.isxd'\n",
    "events = 'F:/CNMFE-ED_17.isxd'\n",
    "print(cellset)\n",
    "print(events)"
   ]
  },
  {
   "cell_type": "code",
   "execution_count": 5,
   "metadata": {},
   "outputs": [],
   "source": [
    "## OK I give up now, let's just use it manually.\n",
    "## Fuck it's still not working...what the heck?\n",
    "\n",
    "# path_to_file = 'F:/inscopix_new/BES0212200324'\n",
    "# data_dir = os.path.join(path_to_file, 'processed')\n",
    "# isx_file_name = 'recording_20200324_103104-PP-BP-MC.isxd'\n",
    "\n",
    "# mov_file = os.path.join(data_dir, isx_file_name)\n",
    "# print(mov_file)\n",
    "\n",
    "# # spatially downsample the movie 2X, making sure to set fix_defective_pixels to False because the movie has already\n",
    "# # been preprocessed, and we don't want to median filter the movie a second time.\n",
    "# pp_mov_file = os.path.join(data_dir, 'recording_20200324_103104-PP-BP-MC-PP.isxd')\n",
    "# if not os.path.exists(pp_mov_file):\n",
    "#     isx.preprocess(mov_file, pp_mov_file, temporal_downsample_factor=1, \n",
    "#                    spatial_downsample_factor=1, fix_defective_pixels=False)\n",
    "# print(pp_mov_file)\n"
   ]
  },
  {
   "cell_type": "code",
   "execution_count": 6,
   "metadata": {},
   "outputs": [],
   "source": [
    "# cellset_list = []\n",
    "# # cellset_file_gSig3 = os.path.join(data_dir, isx_file_name[:-5]+'-CNMFE_3'+ '.isxd')\n",
    "# # cellset_file_gSig4 = os.path.join(data_dir, isx_file_name[:-5]+'-CNMFE_4'+ '.isxd')\n",
    "# # cellset_file_gSig5 = os.path.join(data_dir, isx_file_name[:-5]+'-CNMFE_5'+ '.isxd')\n",
    "# # print(cellset_file_gSig3)\n",
    "# cellset_list.append(os.path.join(data_dir, isx_file_name[:-5]+'-CNMFE_13'+ '.isxd'))\n",
    "# cellset_list.append(os.path.join(data_dir, isx_file_name[:-5]+'-PP-CNMFE_17'+ '.isxd'))\n",
    "# cellset_list.append(os.path.join(data_dir, isx_file_name[:-5]+'-CNMFE_21'+ '.isxd'))\n",
    "# print(cellset_list[1])\n",
    "\n",
    "# events_list = []\n",
    "# events_list.append(os.path.join(data_dir, isx_file_name[:-5]+'-CNMFE_13-ED'+ '.isxd'))\n",
    "# events_list.append(os.path.join(data_dir, isx_file_name[:-5]+'-PP-CNMFE_17-ED'+ '.isxd'))\n",
    "# events_list.append(os.path.join(data_dir, isx_file_name[:-5]+'-CNMFE_21-ED'+ '.isxd'))\n",
    "# print(events_list[0])\n",
    "\n",
    "# # events_file_gSig3 = os.path.join(data_dir, isx_file_name[:-5]+'-CNMFE_3-ED'+ '.isxd')\n",
    "# # events_file_gSig4 = os.path.join(data_dir, isx_file_name[:-5]+'-CNMFE_4-ED'+ '.isxd')\n",
    "# # events_file_gSig5 = os.path.join(data_dir, isx_file_name[:-5]+'-CNMFE_5-ED'+ '.isxd')\n",
    "\n",
    "# # remove output files if they already exist\n",
    "# if os.path.exists(cellset_list[0]):\n",
    "#     os.remove(cellset_list[0])\n",
    "#     print('remove '+cellset_list[0])\n",
    "# if os.path.exists(cellset_list[1]):\n",
    "#     os.remove(cellset_list[1])\n",
    "#     print('remove '+cellset_list[1])\n",
    "# if os.path.exists(cellset_list[2]):\n",
    "#     os.remove(cellset_list[2])\n",
    "#     print('remove '+cellset_list[2])\n",
    "\n",
    "# if os.path.exists(events_list[0]):\n",
    "#     os.remove(events_list[0])\n",
    "#     print('remove'+events_list[0])\n",
    "# if os.path.exists(events_list[1]):\n",
    "#     os.remove(events_list[1])\n",
    "#     print('remove'+events_list[1])\n",
    "# if os.path.exists(events_list[2]):\n",
    "#     os.remove(events_list[2])\n",
    "#     print('remove'+events_list[2])"
   ]
  },
  {
   "cell_type": "code",
   "execution_count": 70,
   "metadata": {},
   "outputs": [],
   "source": [
    "# # new names for outputs (gSig=4)\n",
    "# cellset_file_3 = cellset_list[1]\n",
    "# events_file_3 = events_list[1]\n",
    "# #cellset_file_3\n",
    "# #print(events_file_3)"
   ]
  },
  {
   "cell_type": "code",
   "execution_count": null,
   "metadata": {},
   "outputs": [],
   "source": [
    "# # Copy from the other script, if it's still not working than I really do know what to do.\n",
    "# # Change gSig, gSiz, K, min_pnr, rf, stride \n",
    "# isx.cnmfe.run_cnmfe(pp_mov_file, cellset_file_3, events_file_3, num_processes=1, K=None, rf=[40, 40], stride=20, \n",
    "#                     gSig=4, gSiz=17, min_pnr=10, min_corr=0.8, event_threshold=0.1)"
   ]
  },
  {
   "cell_type": "code",
   "execution_count": 21,
   "metadata": {},
   "outputs": [
    {
     "data": {
      "text/plain": [
       "'F:/inscopix_new/BES0212200416_test\\\\processed\\\\sed\\\\\\\\recording_20200416_153652-PP-BP-MC-CNMFE_17-ED.isxd'"
      ]
     },
     "execution_count": 21,
     "metadata": {},
     "output_type": "execute_result"
    }
   ],
   "source": [
    "cellset_list[0]\n",
    "events_list[0]"
   ]
  },
  {
   "cell_type": "code",
   "execution_count": 35,
   "metadata": {},
   "outputs": [],
   "source": [
    "# CNMFe parameter setting\n",
    "# Define cell size, with the Ca2+ imaging from the inscopix (w/o crop VoF), \n",
    "# a 4x spatial downsampling video usually has a cell size around 15-20 pixel.\n",
    "# Belows are some parameters that I tried that can give us nice yield of cells (~200-300 cells)\n",
    "\n",
    "# Most important is the cell size here, change this one.\n",
    "cell_size_px = 17       # commonly use: 13, 17, 21\n",
    "\n",
    "#px_set = [13,17,21]     # Use for \n",
    "px_set = [17,21]     \n",
    "gSig=(cell_size_px-1)/4 # gSig\n",
    "gSiz=cell_size_px       # gSiz = gSig*4+1 (from CNMFe manual)\n",
    "num_processes=1         # Check again if we can do multi-processor by changing the ipython kernel\n",
    "K=None\n",
    "rf=[40,40]\n",
    "stride=20\n",
    "min_pnr=10              # Try 20, 30 for the most activative neurons\n",
    "min_corr=0.8            # Try 0.7 corr\n",
    "event_threshold=0.3     # Used 0.1 before, too noisy"
   ]
  },
  {
   "cell_type": "code",
   "execution_count": 37,
   "metadata": {},
   "outputs": [
    {
     "data": {
      "text/plain": [
       "'F:/inscopix_new/BES0212200416_test\\\\processed\\\\recording_20200416_153652-PP-BP-MC-CNMFE_17-ED.isxd'"
      ]
     },
     "execution_count": 37,
     "metadata": {},
     "output_type": "execute_result"
    }
   ],
   "source": [
    "cellset_list[px_set.index(cell_size_px)]\n",
    "events_list[px_set.index(cell_size_px)]"
   ]
  },
  {
   "cell_type": "code",
   "execution_count": 40,
   "metadata": {},
   "outputs": [
    {
     "data": {
      "text/plain": [
       "False"
      ]
     },
     "execution_count": 40,
     "metadata": {},
     "output_type": "execute_result"
    }
   ],
   "source": [
    "os.path.exists(cellset_list[px_set.index(cell_size_px)])"
   ]
  },
  {
   "cell_type": "code",
   "execution_count": 38,
   "metadata": {},
   "outputs": [
    {
     "name": "stdout",
     "output_type": "stream",
     "text": [
      "Exporting .isxd to tiff file(s)...\n",
      "Wrote .tiff file to: F:/inscopix_new/BES0212200416_test\\processed\\recording_20200416_153652-PP-BP-MC.tiff\n"
     ]
    },
    {
     "ename": "FileNotFoundError",
     "evalue": "No CaImAn output file found, check the output for errors.",
     "output_type": "error",
     "traceback": [
      "\u001b[1;31m---------------------------------------------------------------------------\u001b[0m",
      "\u001b[1;31mFileNotFoundError\u001b[0m                         Traceback (most recent call last)",
      "\u001b[1;32m<ipython-input-38-5319881e80ad>\u001b[0m in \u001b[0;36m<module>\u001b[1;34m\u001b[0m\n\u001b[0;32m     12\u001b[0m                     \u001b[0mevent_threshold\u001b[0m\u001b[1;33m=\u001b[0m\u001b[0mevent_threshold\u001b[0m\u001b[1;33m,\u001b[0m\u001b[1;33m\u001b[0m\u001b[1;33m\u001b[0m\u001b[0m\n\u001b[0;32m     13\u001b[0m                     \u001b[0moverwrite_tiff\u001b[0m\u001b[1;33m=\u001b[0m\u001b[1;32mTrue\u001b[0m\u001b[1;33m,\u001b[0m\u001b[1;33m\u001b[0m\u001b[1;33m\u001b[0m\u001b[0m\n\u001b[1;32m---> 14\u001b[1;33m                     output_dir=output_dir)\n\u001b[0m\u001b[0;32m     15\u001b[0m \u001b[0mprint\u001b[0m\u001b[1;33m(\u001b[0m\u001b[1;34m'Finished CNMFe '\u001b[0m\u001b[1;33m+\u001b[0m\u001b[0mcellset_list\u001b[0m\u001b[1;33m[\u001b[0m\u001b[0mpx_set\u001b[0m\u001b[1;33m.\u001b[0m\u001b[0mindex\u001b[0m\u001b[1;33m(\u001b[0m\u001b[0mcell_size_px\u001b[0m\u001b[1;33m)\u001b[0m\u001b[1;33m]\u001b[0m\u001b[1;33m)\u001b[0m\u001b[1;33m\u001b[0m\u001b[1;33m\u001b[0m\u001b[0m\n",
      "\u001b[1;32mC:\\Program Files\\Inscopix\\Data Processing\\isx\\cnmfe.py\u001b[0m in \u001b[0;36mrun_cnmfe\u001b[1;34m(input_movie_files, output_cell_set_files, output_events_files, num_processes, overwrite_tiff, K, rf, stride, gSiz, gSig, min_pnr, min_corr, ssub_B, min_SNR, rval_thr, decay_time, event_threshold, merge_threshold, output_dir)\u001b[0m\n\u001b[0;32m    278\u001b[0m     \u001b[1;31m# check for the output file\u001b[0m\u001b[1;33m\u001b[0m\u001b[1;33m\u001b[0m\u001b[1;33m\u001b[0m\u001b[0m\n\u001b[0;32m    279\u001b[0m     \u001b[1;32mif\u001b[0m \u001b[1;32mnot\u001b[0m \u001b[0mos\u001b[0m\u001b[1;33m.\u001b[0m\u001b[0mpath\u001b[0m\u001b[1;33m.\u001b[0m\u001b[0mexists\u001b[0m\u001b[1;33m(\u001b[0m\u001b[0mout_file\u001b[0m\u001b[1;33m)\u001b[0m\u001b[1;33m:\u001b[0m\u001b[1;33m\u001b[0m\u001b[1;33m\u001b[0m\u001b[0m\n\u001b[1;32m--> 280\u001b[1;33m         \u001b[1;32mraise\u001b[0m \u001b[0mFileNotFoundError\u001b[0m\u001b[1;33m(\u001b[0m\u001b[1;34m'No CaImAn output file found, check the output for errors.'\u001b[0m\u001b[1;33m)\u001b[0m\u001b[1;33m\u001b[0m\u001b[1;33m\u001b[0m\u001b[0m\n\u001b[0m\u001b[0;32m    281\u001b[0m \u001b[1;33m\u001b[0m\u001b[0m\n\u001b[0;32m    282\u001b[0m     \u001b[1;31m# save traces, footprints, and events to output files\u001b[0m\u001b[1;33m\u001b[0m\u001b[1;33m\u001b[0m\u001b[1;33m\u001b[0m\u001b[0m\n",
      "\u001b[1;31mFileNotFoundError\u001b[0m: No CaImAn output file found, check the output for errors."
     ]
    }
   ],
   "source": [
    "## Try again with automatic naming\n",
    "## Don't use auto naming, skip this one at the moment.\n",
    "\n",
    "# Run CNMFe\n",
    "isx.cnmfe.run_cnmfe(mc_files, \n",
    "                    cellset_list[px_set.index(cell_size_px)], # Automatic name the output file with corresponding cell size\n",
    "                    events_list[px_set.index(cell_size_px)],\n",
    "                    num_processes=num_processes, \n",
    "                    K=K, rf=rf, stride=stride,\n",
    "                    gSig=gSig, gSiz=gSiz, \n",
    "                    min_pnr=min_pnr, min_corr=min_corr, \n",
    "                    event_threshold=event_threshold,\n",
    "                    overwrite_tiff=True,\n",
    "                    output_dir=output_dir)\n",
    "print('Finished CNMFe '+cellset_list[px_set.index(cell_size_px)])"
   ]
  },
  {
   "cell_type": "code",
   "execution_count": 20,
   "metadata": {},
   "outputs": [
    {
     "name": "stdout",
     "output_type": "stream",
     "text": [
      "Exporting .isxd to tiff file(s)...\n",
      "Wrote .tiff file to: F:/inscopix_new/BES0212200416_test\\processed\\recording_20200416_153652-PP-BP-MC.tiff\n"
     ]
    },
    {
     "ename": "FileNotFoundError",
     "evalue": "No CaImAn output file found, check the output for errors.",
     "output_type": "error",
     "traceback": [
      "\u001b[1;31m---------------------------------------------------------------------------\u001b[0m",
      "\u001b[1;31mFileNotFoundError\u001b[0m                         Traceback (most recent call last)",
      "\u001b[1;32m<ipython-input-20-a8cd35a013be>\u001b[0m in \u001b[0;36m<module>\u001b[1;34m\u001b[0m\n\u001b[0;32m      8\u001b[0m                     \u001b[0mgSig\u001b[0m\u001b[1;33m=\u001b[0m\u001b[0mgSig\u001b[0m\u001b[1;33m,\u001b[0m \u001b[0mgSiz\u001b[0m\u001b[1;33m=\u001b[0m\u001b[0mgSiz\u001b[0m\u001b[1;33m,\u001b[0m\u001b[1;33m\u001b[0m\u001b[1;33m\u001b[0m\u001b[0m\n\u001b[0;32m      9\u001b[0m                     \u001b[0mmin_pnr\u001b[0m\u001b[1;33m=\u001b[0m\u001b[0mmin_pnr\u001b[0m\u001b[1;33m,\u001b[0m \u001b[0mmin_corr\u001b[0m\u001b[1;33m=\u001b[0m\u001b[0mmin_corr\u001b[0m\u001b[1;33m,\u001b[0m\u001b[1;33m\u001b[0m\u001b[1;33m\u001b[0m\u001b[0m\n\u001b[1;32m---> 10\u001b[1;33m                     event_threshold=event_threshold)\n\u001b[0m\u001b[0;32m     11\u001b[0m \u001b[0mprint\u001b[0m\u001b[1;33m(\u001b[0m\u001b[1;34m'Finished CNMFe'\u001b[0m\u001b[1;33m)\u001b[0m\u001b[1;33m\u001b[0m\u001b[1;33m\u001b[0m\u001b[0m\n",
      "\u001b[1;32mC:\\Program Files\\Inscopix\\Data Processing\\isx\\cnmfe.py\u001b[0m in \u001b[0;36mrun_cnmfe\u001b[1;34m(input_movie_files, output_cell_set_files, output_events_files, num_processes, overwrite_tiff, K, rf, stride, gSiz, gSig, min_pnr, min_corr, ssub_B, min_SNR, rval_thr, decay_time, event_threshold, merge_threshold, output_dir)\u001b[0m\n\u001b[0;32m    278\u001b[0m     \u001b[1;31m# check for the output file\u001b[0m\u001b[1;33m\u001b[0m\u001b[1;33m\u001b[0m\u001b[1;33m\u001b[0m\u001b[0m\n\u001b[0;32m    279\u001b[0m     \u001b[1;32mif\u001b[0m \u001b[1;32mnot\u001b[0m \u001b[0mos\u001b[0m\u001b[1;33m.\u001b[0m\u001b[0mpath\u001b[0m\u001b[1;33m.\u001b[0m\u001b[0mexists\u001b[0m\u001b[1;33m(\u001b[0m\u001b[0mout_file\u001b[0m\u001b[1;33m)\u001b[0m\u001b[1;33m:\u001b[0m\u001b[1;33m\u001b[0m\u001b[1;33m\u001b[0m\u001b[0m\n\u001b[1;32m--> 280\u001b[1;33m         \u001b[1;32mraise\u001b[0m \u001b[0mFileNotFoundError\u001b[0m\u001b[1;33m(\u001b[0m\u001b[1;34m'No CaImAn output file found, check the output for errors.'\u001b[0m\u001b[1;33m)\u001b[0m\u001b[1;33m\u001b[0m\u001b[1;33m\u001b[0m\u001b[0m\n\u001b[0m\u001b[0;32m    281\u001b[0m \u001b[1;33m\u001b[0m\u001b[0m\n\u001b[0;32m    282\u001b[0m     \u001b[1;31m# save traces, footprints, and events to output files\u001b[0m\u001b[1;33m\u001b[0m\u001b[1;33m\u001b[0m\u001b[1;33m\u001b[0m\u001b[0m\n",
      "\u001b[1;31mFileNotFoundError\u001b[0m: No CaImAn output file found, check the output for errors."
     ]
    }
   ],
   "source": [
    "# Run CNMFe\n",
    "# Now, try to not use the automaic naming.\n",
    "isx.cnmfe.run_cnmfe(mc_files, \n",
    "                    cellset,\n",
    "                    events,\n",
    "                    num_processes=num_processes, \n",
    "                    K=K, rf=rf, stride=stride,\n",
    "                    gSig=gSig, gSiz=gSiz, \n",
    "                    min_pnr=min_pnr, min_corr=min_corr, \n",
    "                    event_threshold=event_threshold)\n",
    "print('Finished CNMFe')"
   ]
  },
  {
   "cell_type": "code",
   "execution_count": null,
   "metadata": {},
   "outputs": [],
   "source": []
  },
  {
   "cell_type": "code",
   "execution_count": null,
   "metadata": {},
   "outputs": [],
   "source": []
  },
  {
   "cell_type": "code",
   "execution_count": null,
   "metadata": {},
   "outputs": [],
   "source": []
  },
  {
   "cell_type": "markdown",
   "metadata": {},
   "source": [
    "Below is the original code for PCA and ICA, keep it here in case I need them sometime."
   ]
  },
  {
   "cell_type": "code",
   "execution_count": 8,
   "metadata": {},
   "outputs": [],
   "source": [
    "# # Process each series all the way to event detection.\n",
    "# output_dir = os.path.join(data_dir, 'processed')\n",
    "# os.makedirs(output_dir, exist_ok=True)\n",
    "\n",
    "# proc_movie_files = []\n",
    "# proc_cs_files = []\n",
    "# for series_name, rec_names in series_rec_names.items():\n",
    "    \n",
    "#     # Generate the recording file paths.\n",
    "#     rec_files = [os.path.join(data_dir, name + '.xml') for name in rec_names]\n",
    "#     print(rec_files) # for progress feedback, not necessary\n",
    "    \n",
    "#     # Preprocess the recordings by spatially downsampling by a factor of 4.\n",
    "#     pp_files = isx.make_output_file_paths(rec_files, output_dir, 'PP')\n",
    "#     isx.preprocess(rec_files, pp_files, spatial_downsample_factor=4)\n",
    "#     print(pp_files)\n",
    "    \n",
    "#     # Perform spatial bandpass filtering with defaults.\n",
    "#     bp_files = isx.make_output_file_paths(pp_files, output_dir, 'BP')\n",
    "#     isx.spatial_filter(pp_files, bp_files, low_cutoff=0.005, high_cutoff=0.500)\n",
    "#     print(bp_files)\n",
    "    \n",
    "#     # Motion correct the movies using the mean projection as a reference frame.\n",
    "#     mean_proj_file = os.path.join(output_dir, '{}-mean_image.isxd'.format(series_name))\n",
    "#     isx.project_movie(bp_files, mean_proj_file, stat_type='mean')\n",
    "#     mc_files = isx.make_output_file_paths(bp_files, output_dir, 'MC')\n",
    "#     translation_files = isx.make_output_file_paths(mc_files, output_dir, 'translations', 'csv')\n",
    "#     crop_rect_file = os.path.join(output_dir, '{}-crop_rect.csv'.format(series_name))\n",
    "#     isx.motion_correct(\n",
    "#          bp_files, mc_files, max_translation=20, reference_file_name=mean_proj_file,\n",
    "#          low_bandpass_cutoff=None, high_bandpass_cutoff=None,\n",
    "#          output_translation_files=translation_files, output_crop_rect_file=crop_rect_file)\n",
    "#     print(mc_files)\n",
    "    \n",
    "#     # Run DF/F on the motion corrected movies.\n",
    "#     dff_files = isx.make_output_file_paths(mc_files, output_dir, 'DFF')\n",
    "#     isx.dff(mc_files, dff_files, f0_type='mean')\n",
    "#     print(dff_files)\n",
    "    \n",
    "#     # Run PCA-ICA on the DF/F movies.\n",
    "#     # Note that you will have to manually determine the number of cells, which we\n",
    "#     # determined here as 180.\n",
    "#     # Increase the block_size to increase speed at the expense of more memory usage.\n",
    "#     ic_files = isx.make_output_file_paths(dff_files, output_dir, 'PCA_ICA')\n",
    "#     num_cells = 180\n",
    "#     isx.pca_ica(dff_files, ic_files, num_cells, int(1.15 * num_cells), block_size=1000)\n",
    "#     #print(ic_files)\n",
    "\n",
    "#     # Run event detection on the PCA-ICA cell sets.\n",
    "#     event_files = isx.make_output_file_paths(ic_files, output_dir, 'ED')\n",
    "#     isx.event_detection(ic_files, event_files, threshold=5)\n",
    "#     print(event_files)\n",
    "\n",
    "#     # Automatically accept and reject cells based on their cell metrics\n",
    "#     # Only accept cells that have a nonzero event rate, an SNR greater\n",
    "#     # than 3, and only one connected component after thresholding\n",
    "#     auto_ar_filters = [('SNR', '>', 3), ('Event Rate', '>', 0), ('# Comps', '=', 1)]\n",
    "#     isx.auto_accept_reject(ic_files, event_files, filters=auto_ar_filters)\n",
    "\n",
    "#     # Store the processed movies and cell sets for longitudinal registration.\n",
    "#     proc_movie_files += dff_files\n",
    "#     proc_cs_files += ic_files\n",
    "#     print(proc_movie_files)"
   ]
  },
  {
   "cell_type": "code",
   "execution_count": null,
   "metadata": {},
   "outputs": [],
   "source": []
  },
  {
   "cell_type": "markdown",
   "metadata": {},
   "source": [
    "### Longitudinal registration\n",
    "Now, we finished all individual file processings, following is the longitudinal registration from different days.\n",
    "Following cells will also perform event detection and export individual cell maps, csv file of all Ca<sup>2+</sup> traces, registered movies (TIFF) "
   ]
  },
  {
   "cell_type": "code",
   "execution_count": 9,
   "metadata": {},
   "outputs": [],
   "source": [
    "# # Perform longitudinal registration on the processed movies and cell sets\n",
    "# # to align the two days of data.\n",
    "# lr_cs_files = isx.make_output_file_paths(proc_cs_files, output_dir, 'LR')\n",
    "# lr_movie_files = isx.make_output_file_paths(proc_movie_files, output_dir, 'LR')\n",
    "# lr_csv_file = os.path.join(output_dir, 'LR.csv')\n",
    "# isx.longitudinal_registration(\n",
    "#     proc_cs_files, lr_cs_files, input_movie_files=proc_movie_files,\n",
    "#     output_movie_files=lr_movie_files, csv_file=lr_csv_file, accepted_cells_only=True)"
   ]
  },
  {
   "cell_type": "code",
   "execution_count": 10,
   "metadata": {},
   "outputs": [],
   "source": [
    "# # Then run event detection and automatically classify the cells based on their\n",
    "# # cell metrics.\n",
    "# lr_event_files = isx.make_output_file_paths(lr_cs_files, output_dir, 'ED')\n",
    "# isx.event_detection(lr_cs_files, lr_event_files, threshold=5)\n",
    "# auto_ar_filters = [('SNR', '>', 3), ('Event Rate', '>', 0), ('# Comps', '=', 1)]\n",
    "# isx.auto_accept_reject(lr_cs_files, lr_event_files, filters=auto_ar_filters)"
   ]
  },
  {
   "cell_type": "code",
   "execution_count": 11,
   "metadata": {},
   "outputs": [],
   "source": [
    "# # Finally, export the registered movies, cell sets, and event sets to non-native\n",
    "# # formats (TIFF and CSV).\n",
    "# tiff_movie_file = os.path.join(output_dir, 'DFF-LR.tif')\n",
    "# isx.export_movie_to_tiff(lr_movie_files, tiff_movie_file, write_invalid_frames=True)\n",
    "# tiff_image_file = os.path.join(output_dir, 'DFF-PCA_ICA-LR.tif')\n",
    "# csv_trace_file = os.path.join(output_dir, 'DFF-PCA_ICA-LR.csv')\n",
    "# isx.export_cell_set_to_csv_tiff(lr_cs_files, csv_trace_file, tiff_image_file, time_ref='start')\n",
    "# csv_event_file = os.path.join(output_dir, 'DFF-PCA_ICA-LR-ED.csv')\n",
    "# isx.export_event_set_to_csv(lr_event_files, csv_event_file, time_ref='start')"
   ]
  }
 ],
 "metadata": {
  "kernelspec": {
   "display_name": "Python 3",
   "language": "python",
   "name": "python3"
  },
  "language_info": {
   "codemirror_mode": {
    "name": "ipython",
    "version": 3
   },
   "file_extension": ".py",
   "mimetype": "text/x-python",
   "name": "python",
   "nbconvert_exporter": "python",
   "pygments_lexer": "ipython3",
   "version": "3.6.7"
  }
 },
 "nbformat": 4,
 "nbformat_minor": 2
}
