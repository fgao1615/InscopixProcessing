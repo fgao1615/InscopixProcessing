{
 "cells": [
  {
   "cell_type": "code",
   "execution_count": 1,
   "metadata": {},
   "outputs": [],
   "source": [
    "import os\n",
    "import sys\n",
    "sys.path.append(\"/Program Files/Inscopix/Data Processing/\")\n",
    "import isx\n",
    "import isx.cnmfe"
   ]
  },
  {
   "cell_type": "code",
   "execution_count": 3,
   "metadata": {},
   "outputs": [
    {
     "name": "stdout",
     "output_type": "stream",
     "text": [
      "F:/inscopix_new/BAS0212200417/processed\\recording_20200417_154621-PP-BP-MC.isxd\n",
      "F:/inscopix_new/BAS0212200417/processed\\recording_20200417_154621-PP-BP-MC-PP.isxd\n"
     ]
    }
   ],
   "source": [
    "# Define the recording path to the cell set and event data, as done in the standard workflow example\n",
    "\n",
    "# path_to_file = 'F:/inscopix_new/DSC7674200205'\n",
    "# data_dir = os.path.join(path_to_file, 'processed')\n",
    "# isx_file_name = 'recording_20200205_110748-PP-BP-MC.isxd'\n",
    "\n",
    "path_to_file = 'F:/inscopix_new/BAS0212200417/'\n",
    "data_dir = os.path.join(path_to_file, 'processed')\n",
    "isx_file_name = 'recording_20200417_154621-PP-BP-MC.isxd'\n",
    "\n",
    "\n",
    "# Pick out a movie from a particular session.\n",
    "#mov_file = os.path.join(data_dir, 'recording_20190725_113610-PP.isxd')\n",
    "#mov_file = os.path.join(data_dir, 'recording_20190725_113610-PP-BP-MC.isxd')\n",
    "mov_file = os.path.join(data_dir, isx_file_name)\n",
    "print(mov_file)\n",
    "\n",
    "# spatially downsample the movie 2X, making sure to set fix_defective_pixels to False because the movie has already\n",
    "# been preprocessed, and we don't want to median filter the movie a second time.\n",
    "pp_mov_file = os.path.join(data_dir, 'recording_20200417_154621-PP-BP-MC-PP.isxd')\n",
    "if not os.path.exists(pp_mov_file):\n",
    "    isx.preprocess(mov_file, pp_mov_file, temporal_downsample_factor=1, \n",
    "                   spatial_downsample_factor=1, fix_defective_pixels=False)\n",
    "print(pp_mov_file)\n"
   ]
  },
  {
   "cell_type": "code",
   "execution_count": 4,
   "metadata": {},
   "outputs": [],
   "source": [
    "## Naming for the output files.\n",
    "cellset_file = os.path.join(data_dir, 'recording_20200417_154621-PP-BP-MC-PP-CNMFE.isxd')\n",
    "events_file = os.path.join(data_dir, 'recording_20200417_154621-PP-BP-MC-PP-CNMFE-ED.isxd')"
   ]
  },
  {
   "cell_type": "code",
   "execution_count": 7,
   "metadata": {},
   "outputs": [
    {
     "name": "stdout",
     "output_type": "stream",
     "text": [
      "F:/inscopix_new/BAS0212200417/processed\\recording_20200417_154621-PP-BP-MC-PP-CNMFE.isxd\n",
      "F:/inscopix_new/BAS0212200417/processed\\recording_20200417_154621-PP-BP-MC-PP-CNMFE-ED.isxd\n"
     ]
    }
   ],
   "source": [
    "## Checking for names\n",
    "print(cellset_file)\n",
    "print(events_file)"
   ]
  },
  {
   "cell_type": "code",
   "execution_count": 9,
   "metadata": {},
   "outputs": [],
   "source": [
    "# remove output files if they already exist\n",
    "if os.path.exists(cellset_file):\n",
    "    os.remove(cellset_file)\n",
    "if os.path.exists(events_file):\n",
    "    os.remove(events_file)"
   ]
  },
  {
   "cell_type": "code",
   "execution_count": 13,
   "metadata": {},
   "outputs": [
    {
     "name": "stdout",
     "output_type": "stream",
     "text": [
      "Exporting .isxd to tiff file(s)...\n",
      "Wrote .tiff file to: F:/inscopix_new/BAS0212200417/processed\\recording_20200417_154621-PP-BP-MC-PP.tiff\n"
     ]
    },
    {
     "ename": "FileNotFoundError",
     "evalue": "No CaImAn output file found, check the output for errors.",
     "output_type": "error",
     "traceback": [
      "\u001b[1;31m---------------------------------------------------------------------------\u001b[0m",
      "\u001b[1;31mFileNotFoundError\u001b[0m                         Traceback (most recent call last)",
      "\u001b[1;32m<ipython-input-13-fd446042fa05>\u001b[0m in \u001b[0;36m<module>\u001b[1;34m\u001b[0m\n\u001b[0;32m      9\u001b[0m                     \u001b[0mmin_corr\u001b[0m\u001b[1;33m=\u001b[0m\u001b[1;36m0.9\u001b[0m\u001b[1;33m,\u001b[0m \u001b[0mevent_threshold\u001b[0m\u001b[1;33m=\u001b[0m\u001b[1;36m0.1\u001b[0m\u001b[1;33m,\u001b[0m\u001b[1;33m\u001b[0m\u001b[1;33m\u001b[0m\u001b[0m\n\u001b[0;32m     10\u001b[0m                     \u001b[0moutput_dir\u001b[0m\u001b[1;33m=\u001b[0m\u001b[0mdata_dir\u001b[0m\u001b[1;33m,\u001b[0m\u001b[1;33m\u001b[0m\u001b[1;33m\u001b[0m\u001b[0m\n\u001b[1;32m---> 11\u001b[1;33m                     overwrite_tiff=True)\n\u001b[0m",
      "\u001b[1;32mC:\\Program Files\\Inscopix\\Data Processing\\isx\\cnmfe.py\u001b[0m in \u001b[0;36mrun_cnmfe\u001b[1;34m(input_movie_files, output_cell_set_files, output_events_files, num_processes, overwrite_tiff, K, rf, stride, gSiz, gSig, min_pnr, min_corr, ssub_B, min_SNR, rval_thr, decay_time, event_threshold, merge_threshold, output_dir)\u001b[0m\n\u001b[0;32m    278\u001b[0m     \u001b[1;31m# check for the output file\u001b[0m\u001b[1;33m\u001b[0m\u001b[1;33m\u001b[0m\u001b[1;33m\u001b[0m\u001b[0m\n\u001b[0;32m    279\u001b[0m     \u001b[1;32mif\u001b[0m \u001b[1;32mnot\u001b[0m \u001b[0mos\u001b[0m\u001b[1;33m.\u001b[0m\u001b[0mpath\u001b[0m\u001b[1;33m.\u001b[0m\u001b[0mexists\u001b[0m\u001b[1;33m(\u001b[0m\u001b[0mout_file\u001b[0m\u001b[1;33m)\u001b[0m\u001b[1;33m:\u001b[0m\u001b[1;33m\u001b[0m\u001b[1;33m\u001b[0m\u001b[0m\n\u001b[1;32m--> 280\u001b[1;33m         \u001b[1;32mraise\u001b[0m \u001b[0mFileNotFoundError\u001b[0m\u001b[1;33m(\u001b[0m\u001b[1;34m'No CaImAn output file found, check the output for errors.'\u001b[0m\u001b[1;33m)\u001b[0m\u001b[1;33m\u001b[0m\u001b[1;33m\u001b[0m\u001b[0m\n\u001b[0m\u001b[0;32m    281\u001b[0m \u001b[1;33m\u001b[0m\u001b[0m\n\u001b[0;32m    282\u001b[0m     \u001b[1;31m# save traces, footprints, and events to output files\u001b[0m\u001b[1;33m\u001b[0m\u001b[1;33m\u001b[0m\u001b[1;33m\u001b[0m\u001b[0m\n",
      "\u001b[1;31mFileNotFoundError\u001b[0m: No CaImAn output file found, check the output for errors."
     ]
    }
   ],
   "source": [
    "## Run cnmfe defualt from isx manual\n",
    "isx.cnmfe.run_cnmfe(pp_mov_file, \n",
    "                    cellset_file, \n",
    "                    events_file, \n",
    "                    num_processes=1, \n",
    "                    K=20, rf=[25, 25], \n",
    "                    stride=6,gSig=5, \n",
    "                    gSiz=10, min_pnr=30, \n",
    "                    min_corr=0.9, event_threshold=0.1,\n",
    "                    output_dir=data_dir,\n",
    "                    overwrite_tiff=True)"
   ]
  },
  {
   "cell_type": "code",
   "execution_count": null,
   "metadata": {},
   "outputs": [],
   "source": []
  },
  {
   "cell_type": "code",
   "execution_count": 3,
   "metadata": {},
   "outputs": [
    {
     "name": "stdout",
     "output_type": "stream",
     "text": [
      "F:/inscopix_new/BAS0212200417/processed\\recording_20200417_154621-PP-BP-MC-PP-CNMFE_17.isxd\n",
      "F:/inscopix_new/BAS0212200417/processed\\recording_20200417_154621-PP-BP-MC-CNMFE_13-ED.isxd\n"
     ]
    }
   ],
   "source": [
    "cellset_list = []\n",
    "# cellset_file_gSig3 = os.path.join(data_dir, isx_file_name[:-5]+'-CNMFE_3'+ '.isxd')\n",
    "# cellset_file_gSig4 = os.path.join(data_dir, isx_file_name[:-5]+'-CNMFE_4'+ '.isxd')\n",
    "# cellset_file_gSig5 = os.path.join(data_dir, isx_file_name[:-5]+'-CNMFE_5'+ '.isxd')\n",
    "# print(cellset_file_gSig3)\n",
    "cellset_list.append(os.path.join(data_dir, isx_file_name[:-5]+'-CNMFE_13'+ '.isxd'))\n",
    "cellset_list.append(os.path.join(data_dir, isx_file_name[:-5]+'-PP-CNMFE_17'+ '.isxd'))\n",
    "cellset_list.append(os.path.join(data_dir, isx_file_name[:-5]+'-CNMFE_21'+ '.isxd'))\n",
    "print(cellset_list[1])\n",
    "\n",
    "events_list = []\n",
    "events_list.append(os.path.join(data_dir, isx_file_name[:-5]+'-CNMFE_13-ED'+ '.isxd'))\n",
    "events_list.append(os.path.join(data_dir, isx_file_name[:-5]+'-CNMFE_17-ED'+ '.isxd'))\n",
    "events_list.append(os.path.join(data_dir, isx_file_name[:-5]+'-CNMFE_21-ED'+ '.isxd'))\n",
    "print(events_list[0])\n",
    "\n",
    "# events_file_gSig3 = os.path.join(data_dir, isx_file_name[:-5]+'-CNMFE_3-ED'+ '.isxd')\n",
    "# events_file_gSig4 = os.path.join(data_dir, isx_file_name[:-5]+'-CNMFE_4-ED'+ '.isxd')\n",
    "# events_file_gSig5 = os.path.join(data_dir, isx_file_name[:-5]+'-CNMFE_5-ED'+ '.isxd')\n",
    "\n",
    "# remove output files if they already exist\n",
    "if os.path.exists(cellset_list[0]):\n",
    "    os.remove(cellset_list[0])\n",
    "    print('remove '+cellset_list[0])\n",
    "if os.path.exists(cellset_list[1]):\n",
    "    os.remove(cellset_list[1])\n",
    "    print('remove '+cellset_list[1])\n",
    "if os.path.exists(cellset_list[2]):\n",
    "    os.remove(cellset_list[2])\n",
    "    print('remove '+cellset_list[2])\n",
    "\n",
    "if os.path.exists(events_list[0]):\n",
    "    os.remove(events_list[0])\n",
    "    print('remove'+events_list[0])\n",
    "if os.path.exists(events_list[1]):\n",
    "    os.remove(events_list[1])\n",
    "    print('remove'+events_list[1])\n",
    "if os.path.exists(events_list[2]):\n",
    "    os.remove(events_list[2])\n",
    "    print('remove'+events_list[2])"
   ]
  },
  {
   "cell_type": "code",
   "execution_count": 4,
   "metadata": {},
   "outputs": [],
   "source": [
    "# CNMFe\n",
    "# Parameter setting\n",
    "# Define cell size, with the Ca2+ imaging from the inscopix (w/o crop VoF), \n",
    "# a 4x spatial downsampling video usually has a cell size around 15-20 pixel.\n",
    "# Belows are some parameters that I tried that can give us nice yield of cells (~200-300 cells)\n",
    "\n",
    "# Most important is the cell size here.\n",
    "cell_size_px = 17       # commonly use: 13, 17, 21\n",
    "\n",
    "px_set = [13,17,21]\n",
    "gSig=(cell_size_px-1)/4 # gSig\n",
    "gSiz=cell_size_px       # gSiz = gSig*4+1 (from CNMFe manual)\n",
    "num_processes=1         # Check again if we can do multi-processor by changing the ipython kernel\n",
    "K=None\n",
    "rf=[40,40]\n",
    "stride=20\n",
    "min_pnr=10\n",
    "min_corr=0.8\n",
    "event_threshold=0.1"
   ]
  },
  {
   "cell_type": "code",
   "execution_count": 5,
   "metadata": {},
   "outputs": [
    {
     "data": {
      "text/plain": [
       "1"
      ]
     },
     "execution_count": 5,
     "metadata": {},
     "output_type": "execute_result"
    }
   ],
   "source": [
    "px_set = [13,17,21]\n",
    "px_set.index(cell_size_px) # This will be used for define the index of output file names"
   ]
  },
  {
   "cell_type": "code",
   "execution_count": 6,
   "metadata": {},
   "outputs": [
    {
     "data": {
      "text/plain": [
       "'F:/inscopix_new/BAS0212200417/processed\\\\recording_20200417_154621-PP-BP-MC-CNMFE_17-ED.isxd'"
      ]
     },
     "execution_count": 6,
     "metadata": {},
     "output_type": "execute_result"
    }
   ],
   "source": [
    "cellset_list[px_set.index(cell_size_px)]\n",
    "events_list[px_set.index(cell_size_px)]"
   ]
  },
  {
   "cell_type": "code",
   "execution_count": 17,
   "metadata": {},
   "outputs": [
    {
     "name": "stdout",
     "output_type": "stream",
     "text": [
      "<class 'str'>\n",
      "F:/inscopix_new/BAS0212200417/processed\\recording_20200417_154621-PP-BP-MC-CNMFE_17-ED.isxd\n"
     ]
    }
   ],
   "source": [
    "## Bypass the auto naming.\n",
    "cellset_file = cellset_list[1]\n",
    "events_file = events_list[1]\n",
    "print(type(cellset_file))\n",
    "print(events_file)"
   ]
  },
  {
   "cell_type": "code",
   "execution_count": 7,
   "metadata": {},
   "outputs": [
    {
     "name": "stdout",
     "output_type": "stream",
     "text": [
      "Exporting .isxd to tiff file(s)...\n",
      "Wrote .tiff file to: F:/inscopix_new/BAS0212200417/processed\\recording_20200417_154621-PP-BP-MC.tiff\n"
     ]
    },
    {
     "ename": "FileNotFoundError",
     "evalue": "No CaImAn output file found, check the output for errors.",
     "output_type": "error",
     "traceback": [
      "\u001b[1;31m---------------------------------------------------------------------------\u001b[0m",
      "\u001b[1;31mFileNotFoundError\u001b[0m                         Traceback (most recent call last)",
      "\u001b[1;32m<ipython-input-7-9bfe3cb67c7c>\u001b[0m in \u001b[0;36m<module>\u001b[1;34m\u001b[0m\n\u001b[0;32m      7\u001b[0m                     \u001b[0mgSig\u001b[0m\u001b[1;33m=\u001b[0m\u001b[0mgSig\u001b[0m\u001b[1;33m,\u001b[0m \u001b[0mgSiz\u001b[0m\u001b[1;33m=\u001b[0m\u001b[0mgSiz\u001b[0m\u001b[1;33m,\u001b[0m\u001b[1;33m\u001b[0m\u001b[1;33m\u001b[0m\u001b[0m\n\u001b[0;32m      8\u001b[0m                     \u001b[0mmin_pnr\u001b[0m\u001b[1;33m=\u001b[0m\u001b[0mmin_pnr\u001b[0m\u001b[1;33m,\u001b[0m \u001b[0mmin_corr\u001b[0m\u001b[1;33m=\u001b[0m\u001b[0mmin_corr\u001b[0m\u001b[1;33m,\u001b[0m\u001b[1;33m\u001b[0m\u001b[1;33m\u001b[0m\u001b[0m\n\u001b[1;32m----> 9\u001b[1;33m                     event_threshold=event_threshold)\n\u001b[0m",
      "\u001b[1;32mC:\\Program Files\\Inscopix\\Data Processing\\isx\\cnmfe.py\u001b[0m in \u001b[0;36mrun_cnmfe\u001b[1;34m(input_movie_files, output_cell_set_files, output_events_files, num_processes, overwrite_tiff, K, rf, stride, gSiz, gSig, min_pnr, min_corr, ssub_B, min_SNR, rval_thr, decay_time, event_threshold, merge_threshold, output_dir)\u001b[0m\n\u001b[0;32m    278\u001b[0m     \u001b[1;31m# check for the output file\u001b[0m\u001b[1;33m\u001b[0m\u001b[1;33m\u001b[0m\u001b[1;33m\u001b[0m\u001b[0m\n\u001b[0;32m    279\u001b[0m     \u001b[1;32mif\u001b[0m \u001b[1;32mnot\u001b[0m \u001b[0mos\u001b[0m\u001b[1;33m.\u001b[0m\u001b[0mpath\u001b[0m\u001b[1;33m.\u001b[0m\u001b[0mexists\u001b[0m\u001b[1;33m(\u001b[0m\u001b[0mout_file\u001b[0m\u001b[1;33m)\u001b[0m\u001b[1;33m:\u001b[0m\u001b[1;33m\u001b[0m\u001b[1;33m\u001b[0m\u001b[0m\n\u001b[1;32m--> 280\u001b[1;33m         \u001b[1;32mraise\u001b[0m \u001b[0mFileNotFoundError\u001b[0m\u001b[1;33m(\u001b[0m\u001b[1;34m'No CaImAn output file found, check the output for errors.'\u001b[0m\u001b[1;33m)\u001b[0m\u001b[1;33m\u001b[0m\u001b[1;33m\u001b[0m\u001b[0m\n\u001b[0m\u001b[0;32m    281\u001b[0m \u001b[1;33m\u001b[0m\u001b[0m\n\u001b[0;32m    282\u001b[0m     \u001b[1;31m# save traces, footprints, and events to output files\u001b[0m\u001b[1;33m\u001b[0m\u001b[1;33m\u001b[0m\u001b[1;33m\u001b[0m\u001b[0m\n",
      "\u001b[1;31mFileNotFoundError\u001b[0m: No CaImAn output file found, check the output for errors."
     ]
    }
   ],
   "source": [
    "# Run CNMFe\n",
    "isx.cnmfe.run_cnmfe(mov_file, \n",
    "                    cellset_list[px_set.index(cell_size_px)], # Automatic name the output file with corresponding cell size\n",
    "                    events_list[px_set.index(cell_size_px)],\n",
    "                    num_processes=num_processes, \n",
    "                    K=K, rf=rf, stride=stride,\n",
    "                    gSig=gSig, gSiz=gSiz, \n",
    "                    min_pnr=min_pnr, min_corr=min_corr, \n",
    "                    event_threshold=event_threshold)"
   ]
  },
  {
   "cell_type": "code",
   "execution_count": 18,
   "metadata": {
    "scrolled": false
   },
   "outputs": [
    {
     "name": "stdout",
     "output_type": "stream",
     "text": [
      "Exporting .isxd to tiff file(s)...\n"
     ]
    },
    {
     "ename": "ValueError",
     "evalue": "F:/inscopix_new/BAS0212200417/processed\\recording_20200205_110748-PP-BP-MC-PP.tiff already exists but overwrite is set to False. Set to True to overwrite.",
     "output_type": "error",
     "traceback": [
      "\u001b[1;31m---------------------------------------------------------------------------\u001b[0m",
      "\u001b[1;31mValueError\u001b[0m                                Traceback (most recent call last)",
      "\u001b[1;32m<ipython-input-18-64cfc91907a4>\u001b[0m in \u001b[0;36m<module>\u001b[1;34m\u001b[0m\n\u001b[0;32m      1\u001b[0m \u001b[1;31m# Default setting from inscopix\u001b[0m\u001b[1;33m\u001b[0m\u001b[1;33m\u001b[0m\u001b[1;33m\u001b[0m\u001b[0m\n\u001b[0;32m      2\u001b[0m isx.cnmfe.run_cnmfe(pp_mov_file, cellset_file, events_file, num_processes=1, K=20, rf=[25, 25], stride=6, \n\u001b[1;32m----> 3\u001b[1;33m                     gSig=5, gSiz=10, min_pnr=30, min_corr=0.8, event_threshold=0.1)\n\u001b[0m",
      "\u001b[1;32mC:\\Program Files\\Inscopix\\Data Processing\\isx\\cnmfe.py\u001b[0m in \u001b[0;36mrun_cnmfe\u001b[1;34m(input_movie_files, output_cell_set_files, output_events_files, num_processes, overwrite_tiff, K, rf, stride, gSiz, gSig, min_pnr, min_corr, ssub_B, min_SNR, rval_thr, decay_time, event_threshold, merge_threshold, output_dir)\u001b[0m\n\u001b[0;32m    237\u001b[0m     \u001b[0mprint\u001b[0m\u001b[1;33m(\u001b[0m\u001b[1;34m'Exporting .isxd to tiff file(s)...'\u001b[0m\u001b[1;33m)\u001b[0m\u001b[1;33m\u001b[0m\u001b[1;33m\u001b[0m\u001b[0m\n\u001b[0;32m    238\u001b[0m     tiff_files, num_frames, num_rows, num_cols = _export_movie_to_tiff(input_movie_files, overwrite=overwrite_tiff,\n\u001b[1;32m--> 239\u001b[1;33m                                                                         output_dir=output_dir)\n\u001b[0m\u001b[0;32m    240\u001b[0m \u001b[1;33m\u001b[0m\u001b[0m\n\u001b[0;32m    241\u001b[0m     \u001b[1;32mfor\u001b[0m \u001b[0mtiff_file\u001b[0m \u001b[1;32min\u001b[0m \u001b[0mtiff_files\u001b[0m\u001b[1;33m:\u001b[0m\u001b[1;33m\u001b[0m\u001b[1;33m\u001b[0m\u001b[0m\n",
      "\u001b[1;32mC:\\Program Files\\Inscopix\\Data Processing\\isx\\cnmfe.py\u001b[0m in \u001b[0;36m_export_movie_to_tiff\u001b[1;34m(isxd_movie_files, overwrite, output_dir)\u001b[0m\n\u001b[0;32m     97\u001b[0m                 \u001b[0mos\u001b[0m\u001b[1;33m.\u001b[0m\u001b[0mremove\u001b[0m\u001b[1;33m(\u001b[0m\u001b[0mtiff_file\u001b[0m\u001b[1;33m)\u001b[0m\u001b[1;33m\u001b[0m\u001b[1;33m\u001b[0m\u001b[0m\n\u001b[0;32m     98\u001b[0m             \u001b[1;32melse\u001b[0m\u001b[1;33m:\u001b[0m\u001b[1;33m\u001b[0m\u001b[1;33m\u001b[0m\u001b[0m\n\u001b[1;32m---> 99\u001b[1;33m                 \u001b[1;32mraise\u001b[0m \u001b[0mValueError\u001b[0m\u001b[1;33m(\u001b[0m\u001b[0mtiff_file\u001b[0m \u001b[1;33m+\u001b[0m \u001b[1;34m\" already exists but overwrite is set to False. Set to True to overwrite.\"\u001b[0m\u001b[1;33m)\u001b[0m\u001b[1;33m\u001b[0m\u001b[1;33m\u001b[0m\u001b[0m\n\u001b[0m\u001b[0;32m    100\u001b[0m \u001b[1;33m\u001b[0m\u001b[0m\n\u001b[0;32m    101\u001b[0m     \u001b[0mexport_movie_to_tiff\u001b[0m\u001b[1;33m(\u001b[0m\u001b[0misxd_movie_files\u001b[0m\u001b[1;33m,\u001b[0m \u001b[0mtiff_file_first\u001b[0m\u001b[1;33m)\u001b[0m\u001b[1;33m\u001b[0m\u001b[1;33m\u001b[0m\u001b[0m\n",
      "\u001b[1;31mValueError\u001b[0m: F:/inscopix_new/BAS0212200417/processed\\recording_20200205_110748-PP-BP-MC-PP.tiff already exists but overwrite is set to False. Set to True to overwrite."
     ]
    }
   ],
   "source": [
    "# Default setting from inscopix\n",
    "isx.cnmfe.run_cnmfe(pp_mov_file, cellset_file, events_file, num_processes=1, K=20, rf=[25, 25], stride=6, \n",
    "                    gSig=5, gSiz=10, min_pnr=30, min_corr=0.8, event_threshold=0.1)"
   ]
  },
  {
   "cell_type": "markdown",
   "metadata": {},
   "source": [
    "F:/inscopix_new/DSC7674200205\\processed\\recording_20200205_110748-PP-BP-MC-PP-CNMFE_17.isxd"
   ]
  },
  {
   "cell_type": "code",
   "execution_count": 9,
   "metadata": {},
   "outputs": [
    {
     "data": {
      "text/plain": [
       "'F:/inscopix_new/BAS0212200417/processed\\\\recording_20200417_154621-PP-BP-MC-PP-CNMFE_17.isxd'"
      ]
     },
     "execution_count": 9,
     "metadata": {},
     "output_type": "execute_result"
    }
   ],
   "source": [
    "# new names for outputs (gSig=4)\n",
    "#cellset_file_3 = os.path.join(data_dir, 'recording_20200205_110748-PP-BP-MC-PP-CNMFE_3.isxd')\n",
    "cellset_file_3 =cellset_list[1]\n",
    "events_file_3 = os.path.join(data_dir, 'recording_20200205_110748-PP-BP-MC-PP-CNMFE-ED_3.isxd')\n",
    "cellset_file_3\n",
    "#print(events_file_3)"
   ]
  },
  {
   "cell_type": "code",
   "execution_count": 24,
   "metadata": {
    "scrolled": false
   },
   "outputs": [
    {
     "name": "stdout",
     "output_type": "stream",
     "text": [
      "Exporting .isxd to tiff file(s)...\n",
      "Wrote .tiff file to: F:/inscopix_new/DSC7674200205\\processed\\recording_20200205_110748-PP-BP-MC-PP.tiff\n"
     ]
    }
   ],
   "source": [
    "# Change gSig, gSiz, K, min_pnr, rf, stride \n",
    "isx.cnmfe.run_cnmfe(pp_mov_file, cellset_file_3, events_file_3, num_processes=1, K=None, rf=[40, 40], stride=20, \n",
    "                    gSig=4, gSiz=17, min_pnr=10, min_corr=0.8, event_threshold=0.1)"
   ]
  },
  {
   "cell_type": "code",
   "execution_count": 9,
   "metadata": {},
   "outputs": [],
   "source": [
    "# new names for outputs (gSig=6)\n",
    "cellset_file_4 = os.path.join(data_dir, 'recording_20200205_110748-PP-BP-MC-PP-CNMFE_4.isxd')\n",
    "events_file_4 = os.path.join(data_dir, 'recording_20200205_110748-PP-BP-MC-PP-CNMFE-ED_4.isxd')\n"
   ]
  },
  {
   "cell_type": "code",
   "execution_count": 10,
   "metadata": {},
   "outputs": [
    {
     "name": "stdout",
     "output_type": "stream",
     "text": [
      "Exporting .isxd to tiff file...\n",
      "Wrote .tiff file to: F:/inscopix_new/DSC7674200205\\processed\\recording_20200205_110748-PP-BP-MC-PP.tiff\n"
     ]
    }
   ],
   "source": [
    "# Change gSig, gSiz, K, min_pnr, rf, stride \n",
    "isx.cnmfe.run_cnmfe(pp_mov_file, cellset_file_4, events_file_4, num_processes=1, K=None, rf=[40, 40], stride=20, \n",
    "                    gSig=6, gSiz=25, min_pnr=10, min_corr=0.8, event_threshold=0.1)"
   ]
  },
  {
   "cell_type": "code",
   "execution_count": 11,
   "metadata": {},
   "outputs": [],
   "source": [
    "# new names for outputs (gSig=7)\n",
    "cellset_file_5 = os.path.join(data_dir, 'recording_20200205_110748-PP-BP-MC-PP-CNMFE_5.isxd')\n",
    "events_file_5 = os.path.join(data_dir, 'recording_20200205_110748-PP-BP-MC-PP-CNMFE-ED_5.isxd')\n"
   ]
  },
  {
   "cell_type": "code",
   "execution_count": 12,
   "metadata": {},
   "outputs": [
    {
     "name": "stdout",
     "output_type": "stream",
     "text": [
      "Exporting .isxd to tiff file...\n",
      "Wrote .tiff file to: F:/inscopix_new/DSC7674200205\\processed\\recording_20200205_110748-PP-BP-MC-PP.tiff\n"
     ]
    }
   ],
   "source": [
    "# Change gSig, gSiz, K, min_pnr, rf, stride \n",
    "isx.cnmfe.run_cnmfe(pp_mov_file, cellset_file_5, events_file_5, num_processes=1, K=None, rf=[40, 40], stride=20, \n",
    "                    gSig=7, gSiz=29, min_pnr=10, min_corr=0.8, event_threshold=0.1)"
   ]
  },
  {
   "cell_type": "code",
   "execution_count": null,
   "metadata": {},
   "outputs": [],
   "source": [
    "# Note now I don't have the proper control of num_processes, so just use 1 at the moment."
   ]
  },
  {
   "cell_type": "code",
   "execution_count": 14,
   "metadata": {},
   "outputs": [],
   "source": [
    "isx.cnmfe.run_cnmfe?"
   ]
  },
  {
   "cell_type": "code",
   "execution_count": 24,
   "metadata": {},
   "outputs": [
    {
     "name": "stdout",
     "output_type": "stream",
     "text": [
      "F:/inscopix_new/DSC7674200205\\processed\\recording_20200205_110748-PP-BP-MC-CNMFE.isxd\n"
     ]
    }
   ],
   "source": [
    "isx_file_name = 'recording_20200205_110748-PP-BP-MC.isxd'\n",
    "mov_file = os.path.join(data_dir, isx_file_name[:-5]+'-CNMFE'+ '.isxd')\n",
    "print(mov_file)"
   ]
  },
  {
   "cell_type": "code",
   "execution_count": 21,
   "metadata": {},
   "outputs": [
    {
     "data": {
      "text/plain": [
       "'recording_20200205_110748-PP-BP-MC'"
      ]
     },
     "execution_count": 21,
     "metadata": {},
     "output_type": "execute_result"
    }
   ],
   "source": [
    "isx_file_name[:-5]"
   ]
  },
  {
   "cell_type": "code",
   "execution_count": null,
   "metadata": {},
   "outputs": [],
   "source": []
  }
 ],
 "metadata": {
  "kernelspec": {
   "display_name": "Python 3",
   "language": "python",
   "name": "python3"
  },
  "language_info": {
   "codemirror_mode": {
    "name": "ipython",
    "version": 3
   },
   "file_extension": ".py",
   "mimetype": "text/x-python",
   "name": "python",
   "nbconvert_exporter": "python",
   "pygments_lexer": "ipython3",
   "version": "3.6.7"
  }
 },
 "nbformat": 4,
 "nbformat_minor": 2
}
